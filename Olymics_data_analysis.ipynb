{
 "cells": [
  {
   "cell_type": "markdown",
   "metadata": {},
   "source": [
    "# Summer Olympics Data Analysis Assignment"
   ]
  },
  {
   "cell_type": "code",
   "execution_count": 2,
   "metadata": {},
   "outputs": [],
   "source": [
    "import pandas as pd\n",
    "import numpy as np\n",
    "import matplotlib.pyplot as plt"
   ]
  },
  {
   "cell_type": "markdown",
   "metadata": {},
   "source": [
    "## 1. In how many cities Summer Olympics is held so far?"
   ]
  },
  {
   "cell_type": "code",
   "execution_count": 9,
   "metadata": {},
   "outputs": [
    {
     "name": "stdout",
     "output_type": "stream",
     "text": [
      "The number of cities in which olympics is held so far is 22\n"
     ]
    }
   ],
   "source": [
    "df = pd.read_csv('summer.csv')\n",
    "\n",
    "l=len(df['City'].unique())\n",
    "\n",
    "print('The number of cities in which olympics is held so far is',l)"
   ]
  },
  {
   "cell_type": "markdown",
   "metadata": {},
   "source": [
    "## 2. Which sport is having most number of Gold Medals so far? (Top 5)"
   ]
  },
  {
   "cell_type": "code",
   "execution_count": 61,
   "metadata": {},
   "outputs": [
    {
     "name": "stdout",
     "output_type": "stream",
     "text": [
      "        Sport  Gold Medals\n",
      "0    Aquatics         1421\n",
      "1   Athletics         1215\n",
      "2      Rowing          890\n",
      "3  Gymnastics          820\n",
      "4     Fencing          552\n"
     ]
    }
   ],
   "source": [
    "data=[]\n",
    "\n",
    "for city in df['Sport'].unique():\n",
    "    count=0\n",
    "    c=df[df['Sport']==city]\n",
    "    for medal in c['Medal']:\n",
    "        \n",
    "        if medal=='Gold':\n",
    "            count+=1\n",
    "        \n",
    "    data.append([city,count])\n",
    "data=pd.DataFrame(data,columns=['Sport','Gold Medals']).sort_values(by='Gold Medals',ascending=False)\n",
    "data.reset_index(drop=True, inplace=True)\n",
    "print(data.head())\n",
    "\n",
    "\n",
    "\n",
    "    "
   ]
  },
  {
   "cell_type": "markdown",
   "metadata": {},
   "source": [
    "## 3. Which sport is having most number of medals so far? (Top 5) "
   ]
  },
  {
   "cell_type": "code",
   "execution_count": 41,
   "metadata": {},
   "outputs": [
    {
     "name": "stdout",
     "output_type": "stream",
     "text": [
      "        Sport  Medals\n",
      "0    Aquatics    4170\n",
      "1   Athletics    3638\n",
      "2      Rowing    2667\n",
      "3  Gymnastics    2307\n",
      "4     Fencing    1613\n"
     ]
    }
   ],
   "source": [
    "data=[]\n",
    "\n",
    "for city in df['Sport'].unique():\n",
    "  \n",
    "    data.append([city,len(df[df['Sport']==city])])\n",
    "data=pd.DataFrame(data,columns=['Sport','Medals']).sort_values(by='Medals',ascending=False)\n",
    "data.reset_index(drop=True, inplace=True)\n",
    "print(data.head())"
   ]
  },
  {
   "cell_type": "markdown",
   "metadata": {},
   "source": [
    "## 4. Which player has won most number of medals? (Top 5) "
   ]
  },
  {
   "cell_type": "code",
   "execution_count": 65,
   "metadata": {},
   "outputs": [
    {
     "name": "stdout",
     "output_type": "stream",
     "text": [
      "                Athlete  Medals\n",
      "0       PHELPS, Michael      22\n",
      "1      LATYNINA, Larisa      18\n",
      "2    ANDRIANOV, Nikolay      15\n",
      "3          ONO, Takashi      13\n",
      "4  MANGIAROTTI, Edoardo      13\n"
     ]
    }
   ],
   "source": [
    "data=[]\n",
    "\n",
    "for city in df['Athlete'].unique():\n",
    "    data.append([city,len(df[df['Athlete']==city])])\n",
    "data=pd.DataFrame(data,columns=['Athlete','Medals']).sort_values(by='Medals',ascending=False)\n",
    "data.reset_index(drop=True, inplace=True)\n",
    "print(data.head())"
   ]
  },
  {
   "cell_type": "markdown",
   "metadata": {},
   "source": [
    "## 5. Which player has won most number Gold Medals of medals? (Top 5)"
   ]
  },
  {
   "cell_type": "code",
   "execution_count": 66,
   "metadata": {},
   "outputs": [
    {
     "name": "stdout",
     "output_type": "stream",
     "text": [
      "            Athlete  Gold Medals\n",
      "0   PHELPS, Michael           18\n",
      "1       LEWIS, Carl            9\n",
      "2       SPITZ, Mark            9\n",
      "3      NURMI, Paavo            9\n",
      "4  LATYNINA, Larisa            9\n"
     ]
    }
   ],
   "source": [
    "data=[]\n",
    "\n",
    "for city in df['Athlete'].unique():\n",
    "    count=0\n",
    "    c=df[df['Athlete']==city]\n",
    "    for medal in c['Medal']:\n",
    "        \n",
    "        if medal=='Gold':\n",
    "            count+=1\n",
    "        \n",
    "    data.append([city,count])\n",
    "data=pd.DataFrame(data,columns=['Athlete','Gold Medals']).sort_values(by='Gold Medals',ascending=False)\n",
    "data.reset_index(drop=True, inplace=True)\n",
    "print(data.head())\n",
    "\n",
    "\n",
    "\n",
    "    "
   ]
  },
  {
   "cell_type": "markdown",
   "metadata": {},
   "source": [
    "## 6. In which year India won first Gold Medal in Summer Olympics? "
   ]
  },
  {
   "cell_type": "code",
   "execution_count": 116,
   "metadata": {},
   "outputs": [
    {
     "name": "stdout",
     "output_type": "stream",
     "text": [
      "Year 1928\n"
     ]
    }
   ],
   "source": [
    "data=[]\n",
    "c=0\n",
    "fr=df[df['Country']=='IND']\n",
    "for medal in fr['Medal']:\n",
    "    if medal=='Gold':\n",
    "        break\n",
    "    c+=1\n",
    "    \n",
    "for yr in fr['Year']:\n",
    "    if c==0:\n",
    "        print('Year',yr)\n",
    "        break\n",
    "    c-=1   "
   ]
  },
  {
   "cell_type": "markdown",
   "metadata": {},
   "source": [
    "## 7. Which event is most popular in terms on number of players? (Top 5) "
   ]
  },
  {
   "cell_type": "code",
   "execution_count": 117,
   "metadata": {},
   "outputs": [
    {
     "name": "stdout",
     "output_type": "stream",
     "text": [
      "        Sport  Players\n",
      "0    Aquatics     4170\n",
      "1   Athletics     3638\n",
      "2      Rowing     2667\n",
      "3  Gymnastics     2307\n",
      "4     Fencing     1613\n"
     ]
    }
   ],
   "source": [
    "# the sports having most number of players will be most popular\n",
    "\n",
    "data=[]\n",
    "\n",
    "for city in df['Sport'].unique():\n",
    "    data.append([city,len(df[df['Sport']==city])])\n",
    "data=pd.DataFrame(data,columns=['Sport','Players']).sort_values(by='Players',ascending=False)\n",
    "data.reset_index(drop=True, inplace=True)\n",
    "print(data.head())"
   ]
  },
  {
   "cell_type": "markdown",
   "metadata": {},
   "source": [
    "## 8. Which sport is having most female Gold Medalists? (Top 5)"
   ]
  },
  {
   "cell_type": "code",
   "execution_count": 137,
   "metadata": {},
   "outputs": [
    {
     "name": "stdout",
     "output_type": "stream",
     "text": [
      "        Sport  Gold Medals\n",
      "0    Aquatics          589\n",
      "1   Athletics          389\n",
      "2  Gymnastics          268\n",
      "3      Rowing          217\n",
      "4  Volleyball          166\n"
     ]
    }
   ],
   "source": [
    "fr=df[df['Gender']=='Women']\n",
    "data=[]\n",
    "for city in fr['Sport'].unique():\n",
    "    count=0\n",
    "    c=fr[fr['Sport']==city]\n",
    "    for medal in c['Medal']:\n",
    "        if medal=='Gold':\n",
    "            count+=1\n",
    "    data.append([city,count])\n",
    "data=pd.DataFrame(data,columns=['Sport','Gold Medals']).sort_values(by='Gold Medals',ascending=False)\n",
    "data.reset_index(drop=True, inplace=True)\n",
    "print(data.head())\n"
   ]
  },
  {
   "cell_type": "code",
   "execution_count": null,
   "metadata": {},
   "outputs": [],
   "source": []
  }
 ],
 "metadata": {
  "kernelspec": {
   "display_name": "Python 3",
   "language": "python",
   "name": "python3"
  },
  "language_info": {
   "codemirror_mode": {
    "name": "ipython",
    "version": 3
   },
   "file_extension": ".py",
   "mimetype": "text/x-python",
   "name": "python",
   "nbconvert_exporter": "python",
   "pygments_lexer": "ipython3",
   "version": "3.8.5"
  }
 },
 "nbformat": 4,
 "nbformat_minor": 4
}
